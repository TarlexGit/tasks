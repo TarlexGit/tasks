{
 "cells": [
  {
   "cell_type": "code",
   "execution_count": 1,
   "metadata": {},
   "outputs": [],
   "source": [
    "import pandas as pd\n",
    "from pandas import Series, DataFrame, read_csv\n",
    "from array import Stimuls\n",
    "from collections import deque"
   ]
  },
  {
   "cell_type": "code",
   "execution_count": 2,
   "metadata": {},
   "outputs": [
    {
     "data": {
      "text/html": [
       "<div>\n",
       "<style scoped>\n",
       "    .dataframe tbody tr th:only-of-type {\n",
       "        vertical-align: middle;\n",
       "    }\n",
       "\n",
       "    .dataframe tbody tr th {\n",
       "        vertical-align: top;\n",
       "    }\n",
       "\n",
       "    .dataframe thead th {\n",
       "        text-align: right;\n",
       "    }\n",
       "</style>\n",
       "<table border=\"1\" class=\"dataframe\">\n",
       "  <thead>\n",
       "    <tr style=\"text-align: right;\">\n",
       "      <th></th>\n",
       "      <th>type</th>\n",
       "      <th>-</th>\n",
       "      <th>num</th>\n",
       "      <th>start</th>\n",
       "      <th>stop</th>\n",
       "      <th>time</th>\n",
       "      <th>X</th>\n",
       "      <th>Y</th>\n",
       "      <th>endX</th>\n",
       "      <th>endY</th>\n",
       "    </tr>\n",
       "  </thead>\n",
       "  <tbody>\n",
       "    <tr>\n",
       "      <th>0</th>\n",
       "      <td>Saccade</td>\n",
       "      <td>-</td>\n",
       "      <td>0</td>\n",
       "      <td>12000</td>\n",
       "      <td>235000</td>\n",
       "      <td>223000</td>\n",
       "      <td>690.0</td>\n",
       "      <td>799.0</td>\n",
       "      <td>1357.0</td>\n",
       "      <td>695.0</td>\n",
       "    </tr>\n",
       "    <tr>\n",
       "      <th>1</th>\n",
       "      <td>Fixation</td>\n",
       "      <td>-</td>\n",
       "      <td>0</td>\n",
       "      <td>235000</td>\n",
       "      <td>445000</td>\n",
       "      <td>210000</td>\n",
       "      <td>1355.0</td>\n",
       "      <td>699.0</td>\n",
       "      <td>0.0</td>\n",
       "      <td>0.0</td>\n",
       "    </tr>\n",
       "    <tr>\n",
       "      <th>2</th>\n",
       "      <td>Saccade</td>\n",
       "      <td>-</td>\n",
       "      <td>1</td>\n",
       "      <td>445000</td>\n",
       "      <td>637000</td>\n",
       "      <td>192000</td>\n",
       "      <td>1357.0</td>\n",
       "      <td>699.0</td>\n",
       "      <td>622.0</td>\n",
       "      <td>318.0</td>\n",
       "    </tr>\n",
       "    <tr>\n",
       "      <th>3</th>\n",
       "      <td>Fixation</td>\n",
       "      <td>-</td>\n",
       "      <td>1</td>\n",
       "      <td>637000</td>\n",
       "      <td>763000</td>\n",
       "      <td>126000</td>\n",
       "      <td>618.0</td>\n",
       "      <td>309.0</td>\n",
       "      <td>0.0</td>\n",
       "      <td>0.0</td>\n",
       "    </tr>\n",
       "  </tbody>\n",
       "</table>\n",
       "</div>"
      ],
      "text/plain": [
       "       type  -  num   start    stop    time       X      Y    endX   endY\n",
       "0   Saccade  -    0   12000  235000  223000   690.0  799.0  1357.0  695.0\n",
       "1  Fixation  -    0  235000  445000  210000  1355.0  699.0     0.0    0.0\n",
       "2   Saccade  -    1  445000  637000  192000  1357.0  699.0   622.0  318.0\n",
       "3  Fixation  -    1  637000  763000  126000   618.0  309.0     0.0    0.0"
      ]
     },
     "execution_count": 2,
     "metadata": {},
     "output_type": "execute_result"
    }
   ],
   "source": [
    "events = pd.read_csv(\"events\", sep=\" \")\n",
    "frame1 = DataFrame(events)\n",
    "frame1"
   ]
  },
  {
   "cell_type": "code",
   "execution_count": 28,
   "metadata": {},
   "outputs": [
    {
     "data": {
      "text/html": [
       "<div>\n",
       "<style scoped>\n",
       "    .dataframe tbody tr th:only-of-type {\n",
       "        vertical-align: middle;\n",
       "    }\n",
       "\n",
       "    .dataframe tbody tr th {\n",
       "        vertical-align: top;\n",
       "    }\n",
       "\n",
       "    .dataframe thead th {\n",
       "        text-align: right;\n",
       "    }\n",
       "</style>\n",
       "<table border=\"1\" class=\"dataframe\">\n",
       "  <thead>\n",
       "    <tr style=\"text-align: right;\">\n",
       "      <th></th>\n",
       "      <th>name</th>\n",
       "      <th>length</th>\n",
       "      <th>tech</th>\n",
       "    </tr>\n",
       "  </thead>\n",
       "  <tbody>\n",
       "    <tr>\n",
       "      <th>0</th>\n",
       "      <td>Stimul1</td>\n",
       "      <td>15000</td>\n",
       "      <td>False</td>\n",
       "    </tr>\n",
       "    <tr>\n",
       "      <th>1</th>\n",
       "      <td>Stimul2</td>\n",
       "      <td>25000</td>\n",
       "      <td>True</td>\n",
       "    </tr>\n",
       "    <tr>\n",
       "      <th>2</th>\n",
       "      <td>Stimul3</td>\n",
       "      <td>20000</td>\n",
       "      <td>False</td>\n",
       "    </tr>\n",
       "  </tbody>\n",
       "</table>\n",
       "</div>"
      ],
      "text/plain": [
       "      name  length   tech\n",
       "0  Stimul1   15000  False\n",
       "1  Stimul2   25000   True\n",
       "2  Stimul3   20000  False"
      ]
     },
     "execution_count": 28,
     "metadata": {},
     "output_type": "execute_result"
    }
   ],
   "source": [
    "array = pd.DataFrame(Stimuls)\n",
    "frame2 = array\n",
    "frame2"
   ]
  },
  {
   "cell_type": "code",
   "execution_count": 24,
   "metadata": {},
   "outputs": [
    {
     "name": "stdout",
     "output_type": "stream",
     "text": [
      "0\n",
      "223000\n",
      "433000\n"
     ]
    },
    {
     "data": {
      "text/plain": [
       "[223000, 210000, 192000]"
      ]
     },
     "execution_count": 24,
     "metadata": {},
     "output_type": "execute_result"
    }
   ],
   "source": [
    "def check(frame1, stop):\n",
    "    stack = frame1['time'].items()\n",
    "    fr1list= []\n",
    "    check = []\n",
    "    for k,v in stack:\n",
    "        s = sum(check, 0)\n",
    "        if s >= stop:\n",
    "            break\n",
    "        else:\n",
    "            check.append(v)\n",
    "            fr1list.append(frame1.loc[k])\n",
    "        print(s)\n",
    "    pd.DataFrame(fr1list).to_csv('output')\n",
    "    return check\n",
    "check(frame1, 625000)\n",
    "\n"
   ]
  },
  {
   "cell_type": "code",
   "execution_count": 21,
   "metadata": {},
   "outputs": [
    {
     "data": {
      "text/html": [
       "<div>\n",
       "<style scoped>\n",
       "    .dataframe tbody tr th:only-of-type {\n",
       "        vertical-align: middle;\n",
       "    }\n",
       "\n",
       "    .dataframe tbody tr th {\n",
       "        vertical-align: top;\n",
       "    }\n",
       "\n",
       "    .dataframe thead th {\n",
       "        text-align: right;\n",
       "    }\n",
       "</style>\n",
       "<table border=\"1\" class=\"dataframe\">\n",
       "  <thead>\n",
       "    <tr style=\"text-align: right;\">\n",
       "      <th></th>\n",
       "      <th>Unnamed: 0</th>\n",
       "      <th>type</th>\n",
       "      <th>-</th>\n",
       "      <th>num</th>\n",
       "      <th>start</th>\n",
       "      <th>stop</th>\n",
       "      <th>time</th>\n",
       "      <th>X</th>\n",
       "      <th>Y</th>\n",
       "      <th>endX</th>\n",
       "      <th>endY</th>\n",
       "    </tr>\n",
       "  </thead>\n",
       "  <tbody>\n",
       "    <tr>\n",
       "      <th>0</th>\n",
       "      <td>0</td>\n",
       "      <td>Saccade</td>\n",
       "      <td>-</td>\n",
       "      <td>0</td>\n",
       "      <td>12000</td>\n",
       "      <td>235000</td>\n",
       "      <td>223000</td>\n",
       "      <td>690.0</td>\n",
       "      <td>799.0</td>\n",
       "      <td>1357.0</td>\n",
       "      <td>695.0</td>\n",
       "    </tr>\n",
       "  </tbody>\n",
       "</table>\n",
       "</div>"
      ],
      "text/plain": [
       "   Unnamed: 0     type  -  num  start    stop    time      X      Y    endX  \\\n",
       "0           0  Saccade  -    0  12000  235000  223000  690.0  799.0  1357.0   \n",
       "\n",
       "    endY  \n",
       "0  695.0  "
      ]
     },
     "execution_count": 21,
     "metadata": {},
     "output_type": "execute_result"
    }
   ],
   "source": [
    "outpp = pd.read_csv('output', sep=',')\n",
    "outpp"
   ]
  },
  {
   "cell_type": "code",
   "execution_count": 27,
   "metadata": {},
   "outputs": [
    {
     "data": {
      "text/plain": [
       "[15000, 25000, 20000]"
      ]
     },
     "execution_count": 27,
     "metadata": {},
     "output_type": "execute_result"
    }
   ],
   "source": [
    "slots = [x for x in frame2['length']]\n",
    "slots"
   ]
  },
  {
   "cell_type": "code",
   "execution_count": 20,
   "metadata": {
    "scrolled": true
   },
   "outputs": [],
   "source": [
    "# class AutoChelenge(frame1,frame2):\n",
    "\n",
    "\n",
    "# def check(frame1, stop):\n",
    "#     stack = frame1['time'].items()\n",
    "#     fr1list= []\n",
    "#     check = []\n",
    "#     for k,v in stack:\n",
    "#         s = sum(check, 0)\n",
    "#         if s >= stop:\n",
    "#             break\n",
    "#         else:\n",
    "#             check.append(v)\n",
    "#             fr1list.append(frame1.loc[k])\n",
    "#         print(s)\n",
    "#     pd.DataFrame(fr1list).to_csv('output')\n",
    "#     return fr1list\n",
    "\n",
    "# slots = [x for x in frame2['length']]\n",
    "\n",
    "# try:\n",
    "#     for z in slots:\n",
    "#         f = check(frame1, z)\n",
    "#         print(f)\n",
    "# except:\n",
    "#     print('STOP')\n",
    "    "
   ]
  },
  {
   "cell_type": "code",
   "execution_count": null,
   "metadata": {},
   "outputs": [],
   "source": []
  },
  {
   "cell_type": "code",
   "execution_count": null,
   "metadata": {},
   "outputs": [],
   "source": []
  },
  {
   "cell_type": "code",
   "execution_count": null,
   "metadata": {},
   "outputs": [],
   "source": []
  }
 ],
 "metadata": {
  "kernelspec": {
   "display_name": "Python 3",
   "language": "python",
   "name": "python3"
  },
  "language_info": {
   "codemirror_mode": {
    "name": "ipython",
    "version": 3
   },
   "file_extension": ".py",
   "mimetype": "text/x-python",
   "name": "python",
   "nbconvert_exporter": "python",
   "pygments_lexer": "ipython3",
   "version": "3.7.3"
  }
 },
 "nbformat": 4,
 "nbformat_minor": 2
}
